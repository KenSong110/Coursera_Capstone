{
    "cells": [
        {
            "cell_type": "markdown",
            "metadata": {},
            "source": "<span style=\"font-size:2em;\">Introduction / Business Problem</span>\n<p><u><i>Goal</i></u></p>\n<p>To identify the ideal location to open a restaurant in Singapore.</p>\n<p><u><i>Methodology</i></u></p>\n<p>Utilising data from multiple sources to identify clusters of restaurants in Singapore.</p>\n<p><a href=\"https://en.wikipedia.org/wiki/Postal_codes_in_Singapore\"> Wikipedia</a>: Singapore postal codes</p>\n<p><a href=\"https://www.sglocate.com/\"> SGLocate</a>: API to obtain latitude and longtitude for each Singapore postal codes</p>\n<p><a href=\"https://foursquare.com/discoversing/\"> SGLocate</a>: Use foursquare to identify clusters and determine ideal location to open a restaurant</p>"
        },
        {
            "cell_type": "markdown",
            "metadata": {},
            "source": "<span style=\"font-size:2em;\">Obtain zipcodes from wikipedia</span>"
        },
        {
            "cell_type": "code",
            "execution_count": 1,
            "metadata": {},
            "outputs": [
                {
                    "data": {
                        "text/html": "<div>\n<style scoped>\n    .dataframe tbody tr th:only-of-type {\n        vertical-align: middle;\n    }\n\n    .dataframe tbody tr th {\n        vertical-align: top;\n    }\n\n    .dataframe thead th {\n        text-align: right;\n    }\n</style>\n<table border=\"1\" class=\"dataframe\">\n  <thead>\n    <tr style=\"text-align: right;\">\n      <th></th>\n      <th>postal_district</th>\n      <th>postal_sector</th>\n      <th>general_location</th>\n      <th>seq</th>\n    </tr>\n  </thead>\n  <tbody>\n    <tr>\n      <th>0</th>\n      <td>1</td>\n      <td>01, 02, 03, 04, 05, 06</td>\n      <td>Raffles Place, Cecil, Marina, People's Park</td>\n      <td>0</td>\n    </tr>\n    <tr>\n      <th>1</th>\n      <td>2</td>\n      <td>07, 08</td>\n      <td>Anson, Tanjong Pagar</td>\n      <td>1</td>\n    </tr>\n    <tr>\n      <th>2</th>\n      <td>3</td>\n      <td>14, 15, 16</td>\n      <td>Bukit Merah, Queenstown, Tiong Bahru</td>\n      <td>2</td>\n    </tr>\n    <tr>\n      <th>3</th>\n      <td>4</td>\n      <td>09, 10</td>\n      <td>Telok Blangah, Harbourfront</td>\n      <td>3</td>\n    </tr>\n    <tr>\n      <th>4</th>\n      <td>5</td>\n      <td>11, 12, 13</td>\n      <td>Pasir Panjang, Hong Leong Garden, Clementi New...</td>\n      <td>4</td>\n    </tr>\n  </tbody>\n</table>\n</div>",
                        "text/plain": "   postal_district           postal_sector  \\\n0                1  01, 02, 03, 04, 05, 06   \n1                2                  07, 08   \n2                3              14, 15, 16   \n3                4                  09, 10   \n4                5              11, 12, 13   \n\n                                    general_location  seq  \n0        Raffles Place, Cecil, Marina, People's Park    0  \n1                               Anson, Tanjong Pagar    1  \n2               Bukit Merah, Queenstown, Tiong Bahru    2  \n3                        Telok Blangah, Harbourfront    3  \n4  Pasir Panjang, Hong Leong Garden, Clementi New...    4  "
                    },
                    "execution_count": 1,
                    "metadata": {},
                    "output_type": "execute_result"
                }
            ],
            "source": "import pandas as pd\nimport numpy as np\nfrom pandas.io.html import read_html\n\n#Read wikitables in the wikipedia page\npage = 'https://en.wikipedia.org/wiki/Postal_codes_in_Singapore'\nwikitable = pd.read_html(page, index_col = 0, attrs={\"class\":\"wikitable\"})\n\n#write table into dataframe\nsg_post = wikitable[0]\nsg_post.reset_index(inplace=True)\n\nsg_post2 = sg_post.rename(columns={'Postal district': 'postal_district', 'Postal sector(1st 2 digits of 6-digit postal codes)': 'postal_sector', 'General location': 'general_location'})\nsg_post2['seq'] = sg_post2.index\n\npostal_sector = sg_post2[{'seq', 'postal_sector'}]\npostal_location = sg_post2[{'seq','general_location'}]\npostal_district = sg_post2[{'seq','postal_district'}]\n\nsg_post2.head()\n"
        },
        {
            "cell_type": "markdown",
            "metadata": {},
            "source": "As you can see, multiple postal sector are grouped into 1 row, we will have to split them"
        },
        {
            "cell_type": "code",
            "execution_count": 2,
            "metadata": {},
            "outputs": [
                {
                    "data": {
                        "text/html": "<div>\n<style scoped>\n    .dataframe tbody tr th:only-of-type {\n        vertical-align: middle;\n    }\n\n    .dataframe tbody tr th {\n        vertical-align: top;\n    }\n\n    .dataframe thead th {\n        text-align: right;\n    }\n</style>\n<table border=\"1\" class=\"dataframe\">\n  <thead>\n    <tr style=\"text-align: right;\">\n      <th></th>\n      <th>seq</th>\n      <th>postal_sector</th>\n    </tr>\n  </thead>\n  <tbody>\n    <tr>\n      <th>0</th>\n      <td>0</td>\n      <td>01</td>\n    </tr>\n    <tr>\n      <th>1</th>\n      <td>0</td>\n      <td>02</td>\n    </tr>\n    <tr>\n      <th>2</th>\n      <td>0</td>\n      <td>03</td>\n    </tr>\n    <tr>\n      <th>3</th>\n      <td>0</td>\n      <td>04</td>\n    </tr>\n    <tr>\n      <th>4</th>\n      <td>0</td>\n      <td>05</td>\n    </tr>\n  </tbody>\n</table>\n</div>",
                        "text/plain": "   seq postal_sector\n0    0            01\n1    0            02\n2    0            03\n3    0            04\n4    0            05"
                    },
                    "execution_count": 2,
                    "metadata": {},
                    "output_type": "execute_result"
                }
            ],
            "source": "def pir(df, c):\n    colc = df[c].str.split(',')\n    clst = colc.values.tolist()\n    lens = [len(l) for l in clst]\n\n    cdf = pd.DataFrame({c: np.concatenate(clst)}, df.index.repeat(lens))\n    return df.drop(c, 1).join(cdf).reset_index(drop=True)\n\npostal_sector2 = pir(postal_sector, 'postal_sector')\n#postal_location2 = pir(postal_location, 'general_location')\npostal_sector2.head()"
        },
        {
            "cell_type": "markdown",
            "metadata": {},
            "source": "Convert postal district from interget to string in order to calculate length"
        },
        {
            "cell_type": "code",
            "execution_count": 3,
            "metadata": {},
            "outputs": [
                {
                    "name": "stderr",
                    "output_type": "stream",
                    "text": "/opt/conda/envs/Python36/lib/python3.6/site-packages/ipykernel/__main__.py:2: SettingWithCopyWarning: \nA value is trying to be set on a copy of a slice from a DataFrame.\nTry using .loc[row_indexer,col_indexer] = value instead\n\nSee the caveats in the documentation: http://pandas.pydata.org/pandas-docs/stable/indexing.html#indexing-view-versus-copy\n  from ipykernel import kernelapp as app\n"
                },
                {
                    "data": {
                        "text/plain": "postal_district    object\nseq                 int64\ndtype: object"
                    },
                    "execution_count": 3,
                    "metadata": {},
                    "output_type": "execute_result"
                }
            ],
            "source": "postal_sector2['postal_sector'] = postal_sector2['postal_sector'].str.strip()\npostal_district['postal_district'] = postal_district['postal_district'].astype(str)\npostal_district.dtypes"
        },
        {
            "cell_type": "markdown",
            "metadata": {},
            "source": "Merge district, sector and location back into 1 dataframe and move the key 'seq' back to the front of the dataframe"
        },
        {
            "cell_type": "code",
            "execution_count": 4,
            "metadata": {},
            "outputs": [
                {
                    "data": {
                        "text/html": "<div>\n<style scoped>\n    .dataframe tbody tr th:only-of-type {\n        vertical-align: middle;\n    }\n\n    .dataframe tbody tr th {\n        vertical-align: top;\n    }\n\n    .dataframe thead th {\n        text-align: right;\n    }\n</style>\n<table border=\"1\" class=\"dataframe\">\n  <thead>\n    <tr style=\"text-align: right;\">\n      <th></th>\n      <th>seq</th>\n      <th>postal_district</th>\n      <th>postal_sector</th>\n      <th>general_location</th>\n    </tr>\n  </thead>\n  <tbody>\n    <tr>\n      <th>0</th>\n      <td>0</td>\n      <td>1</td>\n      <td>01</td>\n      <td>Raffles Place, Cecil, Marina, People's Park</td>\n    </tr>\n    <tr>\n      <th>1</th>\n      <td>0</td>\n      <td>1</td>\n      <td>02</td>\n      <td>Raffles Place, Cecil, Marina, People's Park</td>\n    </tr>\n    <tr>\n      <th>2</th>\n      <td>0</td>\n      <td>1</td>\n      <td>03</td>\n      <td>Raffles Place, Cecil, Marina, People's Park</td>\n    </tr>\n    <tr>\n      <th>3</th>\n      <td>0</td>\n      <td>1</td>\n      <td>04</td>\n      <td>Raffles Place, Cecil, Marina, People's Park</td>\n    </tr>\n    <tr>\n      <th>4</th>\n      <td>0</td>\n      <td>1</td>\n      <td>05</td>\n      <td>Raffles Place, Cecil, Marina, People's Park</td>\n    </tr>\n  </tbody>\n</table>\n</div>",
                        "text/plain": "   seq postal_district postal_sector  \\\n0    0               1            01   \n1    0               1            02   \n2    0               1            03   \n3    0               1            04   \n4    0               1            05   \n\n                              general_location  \n0  Raffles Place, Cecil, Marina, People's Park  \n1  Raffles Place, Cecil, Marina, People's Park  \n2  Raffles Place, Cecil, Marina, People's Park  \n3  Raffles Place, Cecil, Marina, People's Park  \n4  Raffles Place, Cecil, Marina, People's Park  "
                    },
                    "execution_count": 4,
                    "metadata": {},
                    "output_type": "execute_result"
                }
            ],
            "source": "final_post = postal_district.merge(postal_sector2, on= 'seq', how='left', sort = True)\nfinal_post = final_post.merge(postal_location, how='left', on='seq', sort = True)\n\nseq = final_post['seq']\nfinal_post.drop(labels=['seq'], axis=1,inplace = True)\nfinal_post.insert(0, 'seq', seq)\nfinal_post.head()"
        },
        {
            "cell_type": "markdown",
            "metadata": {},
            "source": "Singapore postal codes consists of 6 digit. Depending on the number of digit in postal district, the number of leading zeros that needs to be added would be different. Calculate the length of both postal sector and district"
        },
        {
            "cell_type": "code",
            "execution_count": 5,
            "metadata": {},
            "outputs": [
                {
                    "data": {
                        "text/html": "<div>\n<style scoped>\n    .dataframe tbody tr th:only-of-type {\n        vertical-align: middle;\n    }\n\n    .dataframe tbody tr th {\n        vertical-align: top;\n    }\n\n    .dataframe thead th {\n        text-align: right;\n    }\n</style>\n<table border=\"1\" class=\"dataframe\">\n  <thead>\n    <tr style=\"text-align: right;\">\n      <th></th>\n      <th>seq</th>\n      <th>postal_district</th>\n      <th>postal_sector</th>\n      <th>general_location</th>\n      <th>sector_len</th>\n      <th>postal_len</th>\n    </tr>\n  </thead>\n  <tbody>\n    <tr>\n      <th>0</th>\n      <td>0</td>\n      <td>1</td>\n      <td>01</td>\n      <td>Raffles Place, Cecil, Marina, People's Park</td>\n      <td>2</td>\n      <td>1</td>\n    </tr>\n    <tr>\n      <th>1</th>\n      <td>0</td>\n      <td>1</td>\n      <td>02</td>\n      <td>Raffles Place, Cecil, Marina, People's Park</td>\n      <td>2</td>\n      <td>1</td>\n    </tr>\n    <tr>\n      <th>2</th>\n      <td>0</td>\n      <td>1</td>\n      <td>03</td>\n      <td>Raffles Place, Cecil, Marina, People's Park</td>\n      <td>2</td>\n      <td>1</td>\n    </tr>\n    <tr>\n      <th>3</th>\n      <td>0</td>\n      <td>1</td>\n      <td>04</td>\n      <td>Raffles Place, Cecil, Marina, People's Park</td>\n      <td>2</td>\n      <td>1</td>\n    </tr>\n    <tr>\n      <th>4</th>\n      <td>0</td>\n      <td>1</td>\n      <td>05</td>\n      <td>Raffles Place, Cecil, Marina, People's Park</td>\n      <td>2</td>\n      <td>1</td>\n    </tr>\n  </tbody>\n</table>\n</div>",
                        "text/plain": "   seq postal_district postal_sector  \\\n0    0               1            01   \n1    0               1            02   \n2    0               1            03   \n3    0               1            04   \n4    0               1            05   \n\n                              general_location  sector_len  postal_len  \n0  Raffles Place, Cecil, Marina, People's Park           2           1  \n1  Raffles Place, Cecil, Marina, People's Park           2           1  \n2  Raffles Place, Cecil, Marina, People's Park           2           1  \n3  Raffles Place, Cecil, Marina, People's Park           2           1  \n4  Raffles Place, Cecil, Marina, People's Park           2           1  "
                    },
                    "execution_count": 5,
                    "metadata": {},
                    "output_type": "execute_result"
                }
            ],
            "source": "final_post['sector_len'] = final_post['postal_sector'].str.len()\nfinal_post['postal_len'] = final_post['postal_district'].str.len()\nfinal_post.head()"
        },
        {
            "cell_type": "markdown",
            "metadata": {},
            "source": "Fill postal sector with the appropriate leading zeros based on postal district length"
        },
        {
            "cell_type": "code",
            "execution_count": 6,
            "metadata": {},
            "outputs": [
                {
                    "data": {
                        "text/html": "<div>\n<style scoped>\n    .dataframe tbody tr th:only-of-type {\n        vertical-align: middle;\n    }\n\n    .dataframe tbody tr th {\n        vertical-align: top;\n    }\n\n    .dataframe thead th {\n        text-align: right;\n    }\n</style>\n<table border=\"1\" class=\"dataframe\">\n  <thead>\n    <tr style=\"text-align: right;\">\n      <th></th>\n      <th>seq</th>\n      <th>postal_district</th>\n      <th>postal_sector</th>\n      <th>general_location</th>\n      <th>sector_len</th>\n      <th>postal_len</th>\n      <th>new_sector</th>\n    </tr>\n  </thead>\n  <tbody>\n    <tr>\n      <th>0</th>\n      <td>0</td>\n      <td>1</td>\n      <td>01</td>\n      <td>Raffles Place, Cecil, Marina, People's Park</td>\n      <td>2</td>\n      <td>1</td>\n      <td>00001</td>\n    </tr>\n    <tr>\n      <th>1</th>\n      <td>0</td>\n      <td>1</td>\n      <td>02</td>\n      <td>Raffles Place, Cecil, Marina, People's Park</td>\n      <td>2</td>\n      <td>1</td>\n      <td>00002</td>\n    </tr>\n    <tr>\n      <th>2</th>\n      <td>0</td>\n      <td>1</td>\n      <td>03</td>\n      <td>Raffles Place, Cecil, Marina, People's Park</td>\n      <td>2</td>\n      <td>1</td>\n      <td>00003</td>\n    </tr>\n    <tr>\n      <th>3</th>\n      <td>0</td>\n      <td>1</td>\n      <td>04</td>\n      <td>Raffles Place, Cecil, Marina, People's Park</td>\n      <td>2</td>\n      <td>1</td>\n      <td>00004</td>\n    </tr>\n    <tr>\n      <th>4</th>\n      <td>0</td>\n      <td>1</td>\n      <td>05</td>\n      <td>Raffles Place, Cecil, Marina, People's Park</td>\n      <td>2</td>\n      <td>1</td>\n      <td>00005</td>\n    </tr>\n  </tbody>\n</table>\n</div>",
                        "text/plain": "   seq postal_district postal_sector  \\\n0    0               1            01   \n1    0               1            02   \n2    0               1            03   \n3    0               1            04   \n4    0               1            05   \n\n                              general_location  sector_len  postal_len  \\\n0  Raffles Place, Cecil, Marina, People's Park           2           1   \n1  Raffles Place, Cecil, Marina, People's Park           2           1   \n2  Raffles Place, Cecil, Marina, People's Park           2           1   \n3  Raffles Place, Cecil, Marina, People's Park           2           1   \n4  Raffles Place, Cecil, Marina, People's Park           2           1   \n\n  new_sector  \n0      00001  \n1      00002  \n2      00003  \n3      00004  \n4      00005  "
                    },
                    "execution_count": 6,
                    "metadata": {},
                    "output_type": "execute_result"
                }
            ],
            "source": "final_post['new_sector'] = np.where(final_post['postal_len']==1, final_post['postal_sector'].str.zfill(5),final_post['postal_sector'].str.zfill(4))\n\nfinal_post.head()"
        },
        {
            "cell_type": "markdown",
            "metadata": {},
            "source": "Join the postal district with the newly added sector with leading zeros to derive the final Singapore Zip Codes"
        },
        {
            "cell_type": "code",
            "execution_count": 7,
            "metadata": {},
            "outputs": [
                {
                    "data": {
                        "text/html": "<div>\n<style scoped>\n    .dataframe tbody tr th:only-of-type {\n        vertical-align: middle;\n    }\n\n    .dataframe tbody tr th {\n        vertical-align: top;\n    }\n\n    .dataframe thead th {\n        text-align: right;\n    }\n</style>\n<table border=\"1\" class=\"dataframe\">\n  <thead>\n    <tr style=\"text-align: right;\">\n      <th></th>\n      <th>seq</th>\n      <th>postal_district</th>\n      <th>postal_sector</th>\n      <th>general_location</th>\n      <th>final_zipcode</th>\n    </tr>\n  </thead>\n  <tbody>\n    <tr>\n      <th>0</th>\n      <td>0</td>\n      <td>1</td>\n      <td>01</td>\n      <td>Raffles Place, Cecil, Marina, People's Park</td>\n      <td>100001</td>\n    </tr>\n    <tr>\n      <th>1</th>\n      <td>0</td>\n      <td>1</td>\n      <td>02</td>\n      <td>Raffles Place, Cecil, Marina, People's Park</td>\n      <td>100002</td>\n    </tr>\n    <tr>\n      <th>2</th>\n      <td>0</td>\n      <td>1</td>\n      <td>03</td>\n      <td>Raffles Place, Cecil, Marina, People's Park</td>\n      <td>100003</td>\n    </tr>\n    <tr>\n      <th>3</th>\n      <td>0</td>\n      <td>1</td>\n      <td>04</td>\n      <td>Raffles Place, Cecil, Marina, People's Park</td>\n      <td>100004</td>\n    </tr>\n    <tr>\n      <th>4</th>\n      <td>0</td>\n      <td>1</td>\n      <td>05</td>\n      <td>Raffles Place, Cecil, Marina, People's Park</td>\n      <td>100005</td>\n    </tr>\n  </tbody>\n</table>\n</div>",
                        "text/plain": "   seq postal_district postal_sector  \\\n0    0               1            01   \n1    0               1            02   \n2    0               1            03   \n3    0               1            04   \n4    0               1            05   \n\n                              general_location final_zipcode  \n0  Raffles Place, Cecil, Marina, People's Park        100001  \n1  Raffles Place, Cecil, Marina, People's Park        100002  \n2  Raffles Place, Cecil, Marina, People's Park        100003  \n3  Raffles Place, Cecil, Marina, People's Park        100004  \n4  Raffles Place, Cecil, Marina, People's Park        100005  "
                    },
                    "execution_count": 7,
                    "metadata": {},
                    "output_type": "execute_result"
                }
            ],
            "source": "final_post['final_zipcode'] = final_post['postal_district'] + final_post['new_sector']\n\nfinal_post.drop(['sector_len', 'postal_len', 'new_sector'],axis=1 , inplace=True)\nfinal_post.head()"
        }
    ],
    "metadata": {
        "kernelspec": {
            "display_name": "Python 3.6",
            "language": "python",
            "name": "python3"
        },
        "language_info": {
            "codemirror_mode": {
                "name": "ipython",
                "version": 3
            },
            "file_extension": ".py",
            "mimetype": "text/x-python",
            "name": "python",
            "nbconvert_exporter": "python",
            "pygments_lexer": "ipython3",
            "version": "3.6.9"
        }
    },
    "nbformat": 4,
    "nbformat_minor": 1
}